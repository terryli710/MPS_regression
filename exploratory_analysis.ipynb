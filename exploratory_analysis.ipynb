{
 "cells": [
  {
   "cell_type": "markdown",
   "metadata": {
    "pycharm": {
     "name": "#%% md\n"
    }
   },
   "source": [
    "# Exploratory Analysis\n",
    "A little bit of analysis on the data and visualization of data."
   ]
  },
  {
   "cell_type": "markdown",
   "metadata": {
    "pycharm": {
     "name": "#%% md\n"
    }
   },
   "source": [
    "### X"
   ]
  },
  {
   "cell_type": "code",
   "execution_count": 37,
   "metadata": {
    "collapsed": false,
    "jupyter": {
     "outputs_hidden": false
    },
    "pycharm": {
     "is_executing": false,
     "name": "#%%\n"
    }
   },
   "outputs": [],
   "source": [
    "import numpy as np\n",
    "with open('data\\\\X\\\\HM_ang_acc_40.npy','wb') as f:\n",
    "    np.save(f, HM_ang_acc_40)"
   ]
  },
  {
   "cell_type": "code",
   "execution_count": 38,
   "metadata": {
    "collapsed": false,
    "jupyter": {
     "outputs_hidden": false
    },
    "pycharm": {
     "is_executing": false,
     "name": "#%%\n"
    }
   },
   "outputs": [
    {
     "data": {
      "text/plain": [
       "array([[ 2.94998251e+02,  2.41004560e+03,  2.26701913e+02, ...,\n",
       "         0.00000000e+00,  7.81019870e+02, -2.82473298e+01],\n",
       "       [ 6.67006834e+03,  8.36968601e+02,  1.30272650e+03, ...,\n",
       "         0.00000000e+00,  8.59280636e+02, -4.94254762e+01],\n",
       "       [ 7.91664571e+03,  5.18638780e+02,  4.87568581e+02, ...,\n",
       "        -2.12997187e-03,  8.93486756e+02, -4.98260325e+01],\n",
       "       ...,\n",
       "       [ 5.26576856e+02,  6.87149058e+03,  7.65779582e+02, ...,\n",
       "         0.00000000e+00,  7.62519589e+02, -6.88208712e+01],\n",
       "       [ 8.74973499e+01,  3.09024370e+03,  1.80995850e+02, ...,\n",
       "        -3.69743775e+00,  5.42194956e+02, -4.48019210e+01],\n",
       "       [ 5.33009504e+02,  4.40424782e+02,  2.72443854e+02, ...,\n",
       "        -3.40929772e-07,  1.29996220e+02, -7.10287738e+00]])"
      ]
     },
     "execution_count": 38,
     "metadata": {},
     "output_type": "execute_result"
    }
   ],
   "source": [
    "np.load('data\\\\X\\\\HM_ang_acc_40.npy')\n",
    "\n",
    "import matplotlib.pyplot as plt\n",
    "ax = plt.hist(HM_ang_acc_40)\n",
    "\n",
    "import matplotlib.pyplot as plt\n",
    "ax = plt.hist(HM_ang_acc_40)"
   ]
  },
  {
   "cell_type": "markdown",
   "metadata": {
    "pycharm": {
     "name": "#%% md\n"
    }
   },
   "source": [
    "### Y"
   ]
  },
  {
   "cell_type": "code",
   "execution_count": 39,
   "metadata": {
    "collapsed": false,
    "jupyter": {
     "outputs_hidden": false
    },
    "pycharm": {
     "is_executing": false,
     "name": "#%%\n"
    }
   },
   "outputs": [],
   "source": [
    "hm_95_mat = loadmat('data/Y/HM_95.mat')"
   ]
  },
  {
   "cell_type": "code",
   "execution_count": 40,
   "metadata": {
    "collapsed": false,
    "jupyter": {
     "outputs_hidden": false
    },
    "pycharm": {
     "is_executing": false,
     "name": "#%%\n"
    }
   },
   "outputs": [
    {
     "data": {
      "text/plain": [
       "dict_keys(['__header__', '__version__', '__globals__', 'HM_95'])"
      ]
     },
     "execution_count": 40,
     "metadata": {},
     "output_type": "execute_result"
    }
   ],
   "source": [
    "hm_95_mat.keys()"
   ]
  },
  {
   "cell_type": "code",
   "execution_count": 41,
   "metadata": {
    "collapsed": false,
    "jupyter": {
     "outputs_hidden": false
    },
    "pycharm": {
     "is_executing": false,
     "name": "#%%\n"
    }
   },
   "outputs": [],
   "source": [
    "hm_95 = hm_95_mat['HM_95']"
   ]
  },
  {
   "cell_type": "code",
   "execution_count": 44,
   "metadata": {
    "collapsed": false,
    "jupyter": {
     "outputs_hidden": false
    },
    "pycharm": {
     "is_executing": false,
     "name": "#%%\n"
    }
   },
   "outputs": [
    {
     "data": {
      "text/plain": [
       "array([[0.35997415],\n",
       "       [0.36687189],\n",
       "       [0.3529993 ],\n",
       "       [0.32464579],\n",
       "       [0.34154752]])"
      ]
     },
     "execution_count": 44,
     "metadata": {},
     "output_type": "execute_result"
    }
   ],
   "source": [
    "hm_95[:5]"
   ]
  },
  {
   "cell_type": "code",
   "execution_count": 45,
   "metadata": {
    "collapsed": false,
    "jupyter": {
     "outputs_hidden": false
    },
    "pycharm": {
     "is_executing": false,
     "name": "#%%\n"
    }
   },
   "outputs": [
    {
     "data": {
      "text/plain": [
       "(867, 1)"
      ]
     },
     "execution_count": 45,
     "metadata": {},
     "output_type": "execute_result"
    }
   ],
   "source": [
    "hm_95.shape"
   ]
  },
  {
   "cell_type": "code",
   "execution_count": 46,
   "metadata": {
    "collapsed": false,
    "jupyter": {
     "outputs_hidden": false
    },
    "pycharm": {
     "is_executing": false,
     "name": "#%%\n"
    }
   },
   "outputs": [
    {
     "data": {
      "image/png": "[encoded data removed]",
      "text/plain": [
       "<Figure size 432x288 with 1 Axes>"
      ]
     },
     "metadata": {
      "needs_background": "light"
     },
     "output_type": "display_data"
    }
   ],
   "source": [
    "ay = plt.hist(hm_95)"
   ]
  },
  {
   "cell_type": "code",
   "execution_count": 48,
   "metadata": {
    "collapsed": false,
    "jupyter": {
     "outputs_hidden": false
    },
    "pycharm": {
     "is_executing": false,
     "name": "#%%\n"
    }
   },
   "outputs": [],
   "source": [
    "with open('data/Y/HM_95.npy','wb') as f:\n",
    "    np.save(f, hm_95)"
   ]
  },
  {
   "cell_type": "code",
   "execution_count": null,
   "outputs": [],
   "source": [
    "X = np.load('data/X/HM_X_ang_vel.npy')\n",
    "X.shape"
   ],
   "metadata": {
    "collapsed": false,
    "pycharm": {
     "name": "#%%\n"
    }
   }
  },
  {
   "cell_type": "markdown",
   "source": [
    "### New New Data bring about problem\n",
    "\n",
    "how to handle large data: as large as $10^{28}$ ... \n",
    "wait no, larger than $10^{308}$ ..."
   ],
   "metadata": {
    "collapsed": false,
    "pycharm": {
     "name": "#%% md\n"
    }
   }
  },
  {
   "cell_type": "code",
   "execution_count": null,
   "outputs": [],
   "source": [
    "import os\n",
    "os.listdir('data/X')"
   ],
   "metadata": {
    "collapsed": false,
    "pycharm": {
     "name": "#%%\n"
    }
   }
  },
  {
   "cell_type": "code",
   "execution_count": 21,
   "outputs": [],
   "source": [
    "import numpy as np\n",
    "X = np.load('data/X/HM_X_ang_vel.npy')"
   ],
   "metadata": {
    "collapsed": false,
    "pycharm": {
     "name": "#%%\n",
     "is_executing": false
    }
   }
  },
  {
   "cell_type": "code",
   "execution_count": 23,
   "outputs": [],
   "source": [
    "newX = np.delete(X, [46,48,50], 1)"
   ],
   "metadata": {
    "collapsed": false,
    "pycharm": {
     "name": "#%%\n",
     "is_executing": false
    }
   }
  },
  {
   "cell_type": "code",
   "execution_count": 8,
   "outputs": [
    {
     "data": {
      "text/plain": "sys.float_info(max=1.7976931348623157e+308, max_exp=1024, max_10_exp=308, min=2.2250738585072014e-308, min_exp=-1021, min_10_exp=-307, dig=15, mant_dig=53, epsilon=2.220446049250313e-16, radix=2, rounds=1)"
     },
     "metadata": {},
     "output_type": "execute_result",
     "execution_count": 8
    }
   ],
   "source": [
    "import sys\n",
    "sys.float_info\n"
   ],
   "metadata": {
    "collapsed": false,
    "pycharm": {
     "name": "#%%\n",
     "is_executing": false
    }
   }
  },
  {
   "cell_type": "code",
   "execution_count": 9,
   "outputs": [
    {
     "data": {
      "text/plain": "dtype('float64')"
     },
     "metadata": {},
     "output_type": "execute_result",
     "execution_count": 9
    }
   ],
   "source": [
    "X.dtype"
   ],
   "metadata": {
    "collapsed": false,
    "pycharm": {
     "name": "#%%\n",
     "is_executing": false
    }
   }
  },
  {
   "cell_type": "code",
   "execution_count": 10,
   "outputs": [
    {
     "data": {
      "text/plain": "inf"
     },
     "metadata": {},
     "output_type": "execute_result",
     "execution_count": 10
    }
   ],
   "source": [
    "float('inf')"
   ],
   "metadata": {
    "collapsed": false,
    "pycharm": {
     "name": "#%%\n",
     "is_executing": false
    }
   }
  },
  {
   "cell_type": "code",
   "execution_count": 14,
   "outputs": [
    {
     "data": {
      "text/plain": "inf"
     },
     "metadata": {},
     "output_type": "execute_result",
     "execution_count": 14
    }
   ],
   "source": [
    "X[0,48]"
   ],
   "metadata": {
    "collapsed": false,
    "pycharm": {
     "name": "#%%\n",
     "is_executing": false
    }
   }
  },
  {
   "cell_type": "code",
   "execution_count": 17,
   "outputs": [],
   "source": [
    "X[0,48] = 1e29"
   ],
   "metadata": {
    "collapsed": false,
    "pycharm": {
     "name": "#%%\n",
     "is_executing": false
    }
   }
  },
  {
   "cell_type": "code",
   "execution_count": 18,
   "outputs": [
    {
     "data": {
      "text/plain": "1e+29"
     },
     "metadata": {},
     "output_type": "execute_result",
     "execution_count": 18
    }
   ],
   "source": [
    "X[0,48]"
   ],
   "metadata": {
    "collapsed": false,
    "pycharm": {
     "name": "#%%\n",
     "is_executing": false
    }
   }
  },
  {
   "cell_type": "code",
   "execution_count": 19,
   "outputs": [
    {
     "data": {
      "text/plain": "1.7976931348623157e+308"
     },
     "metadata": {},
     "output_type": "execute_result",
     "execution_count": 19
    }
   ],
   "source": [
    "np.finfo('float64').max"
   ],
   "metadata": {
    "collapsed": false,
    "pycharm": {
     "name": "#%%\n",
     "is_executing": false
    }
   }
  },
  {
   "cell_type": "code",
   "execution_count": 45,
   "outputs": [],
   "source": [
    "# decide to drop several columns\n",
    "import numpy as np\n",
    "X = np.load('data/X/HM_X_ang_vel.npy')"
   ],
   "metadata": {
    "collapsed": false,
    "pycharm": {
     "name": "#%%\n",
     "is_executing": false
    }
   }
  },
  {
   "cell_type": "code",
   "execution_count": 42,
   "outputs": [
    {
     "data": {
      "text/plain": "(184, 48)"
     },
     "metadata": {},
     "output_type": "execute_result",
     "execution_count": 42
    }
   ],
   "source": [
    "newX = np.delete(X, [46,48,50], 1)\n",
    "newX.shape"
   ],
   "metadata": {
    "collapsed": false,
    "pycharm": {
     "name": "#%%\n",
     "is_executing": false
    }
   }
  },
  {
   "cell_type": "code",
   "execution_count": 43,
   "outputs": [],
   "source": [
    "with open('data\\\\X\\\\AF_X_ang_vel.npy','wb') as f:\n",
    "    np.save(f, newX)"
   ],
   "metadata": {
    "collapsed": false,
    "pycharm": {
     "name": "#%%\n",
     "is_executing": false
    }
   }
  },
  {
   "cell_type": "code",
   "execution_count": 44,
   "outputs": [
    {
     "data": {
      "text/plain": "(184, 48)"
     },
     "metadata": {},
     "output_type": "execute_result",
     "execution_count": 44
    }
   ],
   "source": [
    "X = np.load('data/X/AF_X_ang_vel.npy')\n",
    "X.shape"
   ],
   "metadata": {
    "collapsed": false,
    "pycharm": {
     "name": "#%%\n",
     "is_executing": false
    }
   }
  },
  {
   "cell_type": "code",
   "execution_count": 1,
   "outputs": [
    {
     "name": "stdout",
     "text": [
      "Collecting statsmodels\n",
      "  Downloading https://files.pythonhosted.org/packages/86/3c/d118973b8d85eeba14b3a306a5a06f920dd92878fa57c264dbe70b83a197/statsmodels-0.11.1-cp37-none-win_amd64.whl (8.2MB)\n",
      "Requirement already satisfied: numpy>=1.14 in c:\\users\\liter\\appdata\\local\\programs\\python\\python37\\lib\\site-packages (from statsmodels) (1.18.1)\n",
      "Requirement already satisfied: scipy>=1.0 in c:\\users\\liter\\appdata\\local\\programs\\python\\python37\\lib\\site-packages (from statsmodels) (1.4.1)\n",
      "Collecting patsy>=0.5 (from statsmodels)\n",
      "  Downloading https://files.pythonhosted.org/packages/ea/0c/5f61f1a3d4385d6bf83b83ea495068857ff8dfb89e74824c6e9eb63286d8/patsy-0.5.1-py2.py3-none-any.whl (231kB)\n",
      "Requirement already satisfied: pandas>=0.21 in c:\\users\\liter\\appdata\\local\\programs\\python\\python37\\lib\\site-packages (from statsmodels) (1.0.3)\n",
      "Requirement already satisfied: six in c:\\users\\liter\\appdata\\local\\programs\\python\\python37\\lib\\site-packages (from patsy>=0.5->statsmodels) (1.14.0)\n",
      "Requirement already satisfied: python-dateutil>=2.6.1 in c:\\users\\liter\\appdata\\local\\programs\\python\\python37\\lib\\site-packages (from pandas>=0.21->statsmodels) (2.8.1)\n",
      "Requirement already satisfied: pytz>=2017.2 in c:\\users\\liter\\appdata\\local\\programs\\python\\python37\\lib\\site-packages (from pandas>=0.21->statsmodels) (2020.1)\n",
      "Installing collected packages: patsy, statsmodels\n",
      "Successfully installed patsy-0.5.1 statsmodels-0.11.1\n"
     ],
     "output_type": "stream"
    },
    {
     "name": "stderr",
     "text": [
      "You are using pip version 19.0.3, however version 20.2b1 is available.\n",
      "You should consider upgrading via the 'python -m pip install --upgrade pip' command.\n"
     ],
     "output_type": "stream"
    }
   ],
   "source": [
    "!pip install statsmodels"
   ],
   "metadata": {
    "collapsed": false,
    "pycharm": {
     "name": "#%%\n",
     "is_executing": false
    }
   }
  },
  {
   "cell_type": "markdown",
   "source": [
    "## VIF"
   ],
   "metadata": {
    "collapsed": false,
    "pycharm": {
     "name": "#%% md\n"
    }
   }
  },
  {
   "cell_type": "code",
   "execution_count": 3,
   "outputs": [],
   "source": [
    "import pandas as pd\n",
    "from statsmodels.stats.outliers_influence import variance_inflation_factor\n",
    "\n"
   ],
   "metadata": {
    "collapsed": false,
    "pycharm": {
     "name": "#%%\n",
     "is_executing": false
    }
   }
  },
  {
   "cell_type": "code",
   "execution_count": 17,
   "outputs": [],
   "source": [
    "def calc_vif(X):\n",
    "\n",
    "    # Calculating VIF\n",
    "    vif = pd.DataFrame()\n",
    "    vif[\"variables\"] = list(range(X.shape[1]))\n",
    "    vif[\"VIF\"] = [variance_inflation_factor(X, i) for i in range(X.shape[1])]\n",
    "\n",
    "    return(vif)"
   ],
   "metadata": {
    "collapsed": false,
    "pycharm": {
     "name": "#%%\n",
     "is_executing": false
    }
   }
  },
  {
   "cell_type": "code",
   "execution_count": 6,
   "outputs": [],
   "source": [
    "import numpy as np\n",
    "X = np.load('data/X/HM_X_ang_vel.npy')"
   ],
   "metadata": {
    "collapsed": false,
    "pycharm": {
     "name": "#%%\n",
     "is_executing": false
    }
   }
  },
  {
   "cell_type": "code",
   "execution_count": 18,
   "outputs": [
    {
     "data": {
      "text/plain": "0.663719707050424"
     },
     "metadata": {},
     "output_type": "execute_result",
     "execution_count": 18
    }
   ],
   "source": [
    "variance_inflation_factor(X, 2)"
   ],
   "metadata": {
    "collapsed": false,
    "pycharm": {
     "name": "#%%\n",
     "is_executing": false
    }
   }
  },
  {
   "cell_type": "code",
   "execution_count": 20,
   "outputs": [],
   "source": [
    "vif_df = calc_vif(X)\n"
   ],
   "metadata": {
    "collapsed": false,
    "pycharm": {
     "name": "#%%\n",
     "is_executing": false
    }
   }
  },
  {
   "cell_type": "code",
   "execution_count": 30,
   "outputs": [
    {
     "data": {
      "text/plain": "    variables         VIF\n0           0    0.758610\n1           1    0.733677\n2           2    0.663720\n3           3    1.327153\n4           4    0.811514\n5           5    0.783419\n6           6    0.344440\n7           7    0.944525\n8           8    0.807175\n9           9    0.687489\n10         10    1.066252\n11         11    0.820225\n12         12    0.724244\n13         13    0.640834\n14         14    1.397455\n15         15    1.685260\n16         16    1.521628\n17         17    2.268377\n18         18    2.168004\n19         19    1.413712\n20         20    4.784784\n21         21    0.103784\n22         22    0.841857\n23         23    1.174342\n24         24    1.360772\n25         25    0.098045\n26         26    0.728044\n27         27    0.938960\n28         28    0.984479\n29         29    0.164916\n30         30    2.844517\n31         31   14.314166\n32         32    1.379924\n33         33    0.128805\n34         34    0.670655\n35         35    0.796836\n36         36    0.860813\n37         37    0.640109\n38         38  124.499820\n39         39   39.936512\n40         40  373.617247\n41         41    0.191467\n42         42    0.881721\n43         43    0.983279\n44         44    0.995713\n45         45    0.047760\n46         46    0.010326\n47         47    0.006590",
      "text/html": "<div>\n<style scoped>\n    .dataframe tbody tr th:only-of-type {\n        vertical-align: middle;\n    }\n\n    .dataframe tbody tr th {\n        vertical-align: top;\n    }\n\n    .dataframe thead th {\n        text-align: right;\n    }\n</style>\n<table border=\"1\" class=\"dataframe\">\n  <thead>\n    <tr style=\"text-align: right;\">\n      <th></th>\n      <th>variables</th>\n      <th>VIF</th>\n    </tr>\n  </thead>\n  <tbody>\n    <tr>\n      <th>0</th>\n      <td>0</td>\n      <td>0.758610</td>\n    </tr>\n    <tr>\n      <th>1</th>\n      <td>1</td>\n      <td>0.733677</td>\n    </tr>\n    <tr>\n      <th>2</th>\n      <td>2</td>\n      <td>0.663720</td>\n    </tr>\n    <tr>\n      <th>3</th>\n      <td>3</td>\n      <td>1.327153</td>\n    </tr>\n    <tr>\n      <th>4</th>\n      <td>4</td>\n      <td>0.811514</td>\n    </tr>\n    <tr>\n      <th>5</th>\n      <td>5</td>\n      <td>0.783419</td>\n    </tr>\n    <tr>\n      <th>6</th>\n      <td>6</td>\n      <td>0.344440</td>\n    </tr>\n    <tr>\n      <th>7</th>\n      <td>7</td>\n      <td>0.944525</td>\n    </tr>\n    <tr>\n      <th>8</th>\n      <td>8</td>\n      <td>0.807175</td>\n    </tr>\n    <tr>\n      <th>9</th>\n      <td>9</td>\n      <td>0.687489</td>\n    </tr>\n    <tr>\n      <th>10</th>\n      <td>10</td>\n      <td>1.066252</td>\n    </tr>\n    <tr>\n      <th>11</th>\n      <td>11</td>\n      <td>0.820225</td>\n    </tr>\n    <tr>\n      <th>12</th>\n      <td>12</td>\n      <td>0.724244</td>\n    </tr>\n    <tr>\n      <th>13</th>\n      <td>13</td>\n      <td>0.640834</td>\n    </tr>\n    <tr>\n      <th>14</th>\n      <td>14</td>\n      <td>1.397455</td>\n    </tr>\n    <tr>\n      <th>15</th>\n      <td>15</td>\n      <td>1.685260</td>\n    </tr>\n    <tr>\n      <th>16</th>\n      <td>16</td>\n      <td>1.521628</td>\n    </tr>\n    <tr>\n      <th>17</th>\n      <td>17</td>\n      <td>2.268377</td>\n    </tr>\n    <tr>\n      <th>18</th>\n      <td>18</td>\n      <td>2.168004</td>\n    </tr>\n    <tr>\n      <th>19</th>\n      <td>19</td>\n      <td>1.413712</td>\n    </tr>\n    <tr>\n      <th>20</th>\n      <td>20</td>\n      <td>4.784784</td>\n    </tr>\n    <tr>\n      <th>21</th>\n      <td>21</td>\n      <td>0.103784</td>\n    </tr>\n    <tr>\n      <th>22</th>\n      <td>22</td>\n      <td>0.841857</td>\n    </tr>\n    <tr>\n      <th>23</th>\n      <td>23</td>\n      <td>1.174342</td>\n    </tr>\n    <tr>\n      <th>24</th>\n      <td>24</td>\n      <td>1.360772</td>\n    </tr>\n    <tr>\n      <th>25</th>\n      <td>25</td>\n      <td>0.098045</td>\n    </tr>\n    <tr>\n      <th>26</th>\n      <td>26</td>\n      <td>0.728044</td>\n    </tr>\n    <tr>\n      <th>27</th>\n      <td>27</td>\n      <td>0.938960</td>\n    </tr>\n    <tr>\n      <th>28</th>\n      <td>28</td>\n      <td>0.984479</td>\n    </tr>\n    <tr>\n      <th>29</th>\n      <td>29</td>\n      <td>0.164916</td>\n    </tr>\n    <tr>\n      <th>30</th>\n      <td>30</td>\n      <td>2.844517</td>\n    </tr>\n    <tr>\n      <th>31</th>\n      <td>31</td>\n      <td>14.314166</td>\n    </tr>\n    <tr>\n      <th>32</th>\n      <td>32</td>\n      <td>1.379924</td>\n    </tr>\n    <tr>\n      <th>33</th>\n      <td>33</td>\n      <td>0.128805</td>\n    </tr>\n    <tr>\n      <th>34</th>\n      <td>34</td>\n      <td>0.670655</td>\n    </tr>\n    <tr>\n      <th>35</th>\n      <td>35</td>\n      <td>0.796836</td>\n    </tr>\n    <tr>\n      <th>36</th>\n      <td>36</td>\n      <td>0.860813</td>\n    </tr>\n    <tr>\n      <th>37</th>\n      <td>37</td>\n      <td>0.640109</td>\n    </tr>\n    <tr>\n      <th>38</th>\n      <td>38</td>\n      <td>124.499820</td>\n    </tr>\n    <tr>\n      <th>39</th>\n      <td>39</td>\n      <td>39.936512</td>\n    </tr>\n    <tr>\n      <th>40</th>\n      <td>40</td>\n      <td>373.617247</td>\n    </tr>\n    <tr>\n      <th>41</th>\n      <td>41</td>\n      <td>0.191467</td>\n    </tr>\n    <tr>\n      <th>42</th>\n      <td>42</td>\n      <td>0.881721</td>\n    </tr>\n    <tr>\n      <th>43</th>\n      <td>43</td>\n      <td>0.983279</td>\n    </tr>\n    <tr>\n      <th>44</th>\n      <td>44</td>\n      <td>0.995713</td>\n    </tr>\n    <tr>\n      <th>45</th>\n      <td>45</td>\n      <td>0.047760</td>\n    </tr>\n    <tr>\n      <th>46</th>\n      <td>46</td>\n      <td>0.010326</td>\n    </tr>\n    <tr>\n      <th>47</th>\n      <td>47</td>\n      <td>0.006590</td>\n    </tr>\n  </tbody>\n</table>\n</div>"
     },
     "metadata": {},
     "output_type": "execute_result",
     "execution_count": 30
    }
   ],
   "source": [
    "vif_df"
   ],
   "metadata": {
    "collapsed": false,
    "pycharm": {
     "name": "#%%\n",
     "is_executing": false
    }
   }
  },
  {
   "cell_type": "markdown",
   "source": [
    "1.选模型\n",
    "    -VIF: feature selection\n",
    "    -RAW\n",
    "    -huber, least square\n",
    "\n",
    "2.GOAL: feature importance\n",
    "    -first, last, standard coefficients\n",
    "    -一致性?\n",
    "        -跨数据\n",
    "        -方法\n",
    "\n",
    "task1: least square + 方法一致性:standard coefficients, first, last\n",
    "task2: 数据一致性(NFL, AF, PAC重复task1)"
   ],
   "metadata": {
    "collapsed": false,
    "pycharm": {
     "name": "#%% md\n"
    }
   }
  },
  {
   "cell_type": "markdown",
   "source": [
    "#### Aug 6"
   ],
   "metadata": {
    "collapsed": false,
    "pycharm": {
     "name": "#%% md\n"
    }
   }
  },
  {
   "cell_type": "code",
   "execution_count": 11,
   "outputs": [],
   "source": [
    "from util_relaimpo import _aps, ca\n",
    "from util import loadNpy, loadCsv\n",
    "import pandas as pd\n",
    "# test CA\n",
    "from sklearn import datasets"
   ],
   "metadata": {
    "collapsed": false,
    "pycharm": {
     "name": "#%% \n",
     "is_executing": false
    }
   }
  },
  {
   "cell_type": "code",
   "execution_count": 13,
   "outputs": [],
   "source": [
    "iris = datasets.load_iris()\n",
    "X = pd.DataFrame(iris.data[:,1:4])\n",
    "Y = iris.data[:,0]\n",
    "a = _aps(X, Y)\n",
    "b = ca(X, Y)"
   ],
   "metadata": {
    "collapsed": false,
    "pycharm": {
     "name": "#%%\n",
     "is_executing": false
    }
   }
  },
  {
   "cell_type": "code",
   "execution_count": 14,
   "outputs": [
    {
     "data": {
      "text/plain": "  feature names  coefficients  percent\n0           [0]        0.0924   0.1076\n1           [1]        0.1514   0.1763\n2           [2]        0.1896   0.2208\n3        [0, 1]       -0.2253  -0.2624\n4        [0, 2]       -0.1833  -0.2135\n5        [1, 2]        0.5038   0.5868\n6     [0, 1, 2]        0.3300   0.3844",
      "text/html": "<div>\n<style scoped>\n    .dataframe tbody tr th:only-of-type {\n        vertical-align: middle;\n    }\n\n    .dataframe tbody tr th {\n        vertical-align: top;\n    }\n\n    .dataframe thead th {\n        text-align: right;\n    }\n</style>\n<table border=\"1\" class=\"dataframe\">\n  <thead>\n    <tr style=\"text-align: right;\">\n      <th></th>\n      <th>feature names</th>\n      <th>coefficients</th>\n      <th>percent</th>\n    </tr>\n  </thead>\n  <tbody>\n    <tr>\n      <th>0</th>\n      <td>[0]</td>\n      <td>0.0924</td>\n      <td>0.1076</td>\n    </tr>\n    <tr>\n      <th>1</th>\n      <td>[1]</td>\n      <td>0.1514</td>\n      <td>0.1763</td>\n    </tr>\n    <tr>\n      <th>2</th>\n      <td>[2]</td>\n      <td>0.1896</td>\n      <td>0.2208</td>\n    </tr>\n    <tr>\n      <th>3</th>\n      <td>[0, 1]</td>\n      <td>-0.2253</td>\n      <td>-0.2624</td>\n    </tr>\n    <tr>\n      <th>4</th>\n      <td>[0, 2]</td>\n      <td>-0.1833</td>\n      <td>-0.2135</td>\n    </tr>\n    <tr>\n      <th>5</th>\n      <td>[1, 2]</td>\n      <td>0.5038</td>\n      <td>0.5868</td>\n    </tr>\n    <tr>\n      <th>6</th>\n      <td>[0, 1, 2]</td>\n      <td>0.3300</td>\n      <td>0.3844</td>\n    </tr>\n  </tbody>\n</table>\n</div>"
     },
     "metadata": {},
     "output_type": "execute_result",
     "execution_count": 14
    }
   ],
   "source": [
    "b\n"
   ],
   "metadata": {
    "collapsed": false,
    "pycharm": {
     "name": "#%%\n",
     "is_executing": false
    }
   }
  },
  {
   "cell_type": "code",
   "execution_count": 15,
   "outputs": [
    {
     "data": {
      "text/plain": "(   index feature names        r2\n 0      0             0  0.013823\n 1      1             1  0.759955\n 2      2             2  0.669028\n 3      3           0,1  0.840178\n 4      4           0,2  0.707237\n 5      5           1,2  0.766261\n 6      6         0,1,2  0.858612,\n        0      1      2    0,1    0,2    1,2  0,1,2\n 0   True  False  False   True   True  False   True\n 1  False   True  False   True  False   True   True\n 2  False  False   True  False   True   True   True,\n [[0], [1], [2], [0, 1], [0, 2], [1, 2], [0, 1, 2]])"
     },
     "metadata": {},
     "output_type": "execute_result",
     "execution_count": 15
    }
   ],
   "source": [
    "a\n"
   ],
   "metadata": {
    "collapsed": false,
    "pycharm": {
     "name": "#%%\n",
     "is_executing": false
    }
   }
  }
 ],
 "metadata": {
  "kernelspec": {
   "display_name": "Python 3",
   "language": "python",
   "name": "python3"
  },
  "language_info": {
   "codemirror_mode": {
    "name": "ipython",
    "version": 3
   },
   "file_extension": ".py",
   "mimetype": "text/x-python",
   "name": "python",
   "nbconvert_exporter": "python",
   "pygments_lexer": "ipython3",
   "version": "3.7.6"
  },
  "pycharm": {
   "stem_cell": {
    "cell_type": "raw",
    "source": [],
    "metadata": {
     "collapsed": false
    }
   }
  }
 },
 "nbformat": 4,
 "nbformat_minor": 4
}