{
 "cells": [
  {
   "cell_type": "markdown",
   "metadata": {
    "collapsed": true,
    "pycharm": {
     "is_executing": false,
     "name": "#%% md\n"
    }
   },
   "source": [
    "## Feature Importance of Brain Strain Linear Model\n",
    "This file is trying to look at the feature importance of brain strain signals from linear models. The workflow looks roughly like the following.\n",
    "\n",
    "1. Build a linear model over the dataset by:\n",
    "  - Feature selection using VIF until there is no severe collinearity effect\n",
    "  - Use no other feature selection method, taking all the variables into the model\n",
    "  - First use least squared fit, then consider huber fit\n",
    "2. Find feature importance of the model by:\n",
    "  - Using `first`, `last` and `standard coefficients` methods\n",
    "  - Test the robustness of this ranking by:\n",
    "    - Compare results in different dataset;\n",
    "    - Acquired by different methods"
   ]
  },
  {
   "cell_type": "code",
   "execution_count": 1,
   "outputs": [],
   "source": [
    "# laod packages\n",
    "import pandas as pd\n",
    "import numpy as np\n",
    "from statsmodels.stats.outliers_influence import variance_inflation_factor\n",
    "from sklearn.linear_model import LinearRegression\n",
    "from sklearn.preprocessing import StandardScaler\n",
    "\n"
   ],
   "metadata": {
    "collapsed": false,
    "pycharm": {
     "name": "#%%\n",
     "is_executing": false
    }
   }
  },
  {
   "cell_type": "markdown",
   "source": [
    "## VIF Stepwise Selection"
   ],
   "metadata": {
    "collapsed": false,
    "pycharm": {
     "name": "#%% md\n"
    }
   }
  },
  {
   "cell_type": "code",
   "execution_count": 2,
   "outputs": [],
   "source": [
    "def calc_vif(X):\n",
    "    # Calculating VIF\n",
    "    vif = pd.DataFrame()\n",
    "    vif[\"variables\"] = list(range(X.shape[1]))\n",
    "    vif[\"VIF\"] = [variance_inflation_factor(X, i) for i in range(X.shape[1])]\n",
    "    return(vif)"
   ],
   "metadata": {
    "collapsed": false,
    "pycharm": {
     "name": "#%%\n",
     "is_executing": false
    }
   }
  },
  {
   "cell_type": "code",
   "execution_count": 3,
   "outputs": [],
   "source": [
    "# load data\n",
    "X = np.load('data/X/HM_X_ang_vel.npy')\n",
    "Y = np.load('data/Y/HM_MPS95.npy')"
   ],
   "metadata": {
    "collapsed": false,
    "pycharm": {
     "name": "#%%\n",
     "is_executing": false
    }
   }
  },
  {
   "cell_type": "code",
   "execution_count": 4,
   "outputs": [
    {
     "data": {
      "text/plain": "    variables         VIF\n0           0    0.758610\n1           1    0.733677\n2           2    0.663720\n3           3    1.327153\n4           4    0.811514\n5           5    0.783419\n6           6    0.344440\n7           7    0.944525\n8           8    0.807175\n9           9    0.687489\n10         10    1.066252\n11         11    0.820225\n12         12    0.724244\n13         13    0.640834\n14         14    1.397455\n15         15    1.685260\n16         16    1.521628\n17         17    2.268377\n18         18    2.168004\n19         19    1.413712\n20         20    4.784784\n21         21    0.103784\n22         22    0.841857\n23         23    1.174342\n24         24    1.360772\n25         25    0.098045\n26         26    0.728044\n27         27    0.938960\n28         28    0.984479\n29         29    0.164916\n30         30    2.844517\n31         31   14.314166\n32         32    1.379924\n33         33    0.128805\n34         34    0.670655\n35         35    0.796836\n36         36    0.860813\n37         37    0.640109\n38         38  124.499820\n39         39   39.936512\n40         40  373.617247\n41         41    0.191467\n42         42    0.881721\n43         43    0.983279\n44         44    0.995713\n45         45    0.047760\n46         46    0.010326\n47         47    0.006590",
      "text/html": "<div>\n<style scoped>\n    .dataframe tbody tr th:only-of-type {\n        vertical-align: middle;\n    }\n\n    .dataframe tbody tr th {\n        vertical-align: top;\n    }\n\n    .dataframe thead th {\n        text-align: right;\n    }\n</style>\n<table border=\"1\" class=\"dataframe\">\n  <thead>\n    <tr style=\"text-align: right;\">\n      <th></th>\n      <th>variables</th>\n      <th>VIF</th>\n    </tr>\n  </thead>\n  <tbody>\n    <tr>\n      <th>0</th>\n      <td>0</td>\n      <td>0.758610</td>\n    </tr>\n    <tr>\n      <th>1</th>\n      <td>1</td>\n      <td>0.733677</td>\n    </tr>\n    <tr>\n      <th>2</th>\n      <td>2</td>\n      <td>0.663720</td>\n    </tr>\n    <tr>\n      <th>3</th>\n      <td>3</td>\n      <td>1.327153</td>\n    </tr>\n    <tr>\n      <th>4</th>\n      <td>4</td>\n      <td>0.811514</td>\n    </tr>\n    <tr>\n      <th>5</th>\n      <td>5</td>\n      <td>0.783419</td>\n    </tr>\n    <tr>\n      <th>6</th>\n      <td>6</td>\n      <td>0.344440</td>\n    </tr>\n    <tr>\n      <th>7</th>\n      <td>7</td>\n      <td>0.944525</td>\n    </tr>\n    <tr>\n      <th>8</th>\n      <td>8</td>\n      <td>0.807175</td>\n    </tr>\n    <tr>\n      <th>9</th>\n      <td>9</td>\n      <td>0.687489</td>\n    </tr>\n    <tr>\n      <th>10</th>\n      <td>10</td>\n      <td>1.066252</td>\n    </tr>\n    <tr>\n      <th>11</th>\n      <td>11</td>\n      <td>0.820225</td>\n    </tr>\n    <tr>\n      <th>12</th>\n      <td>12</td>\n      <td>0.724244</td>\n    </tr>\n    <tr>\n      <th>13</th>\n      <td>13</td>\n      <td>0.640834</td>\n    </tr>\n    <tr>\n      <th>14</th>\n      <td>14</td>\n      <td>1.397455</td>\n    </tr>\n    <tr>\n      <th>15</th>\n      <td>15</td>\n      <td>1.685260</td>\n    </tr>\n    <tr>\n      <th>16</th>\n      <td>16</td>\n      <td>1.521628</td>\n    </tr>\n    <tr>\n      <th>17</th>\n      <td>17</td>\n      <td>2.268377</td>\n    </tr>\n    <tr>\n      <th>18</th>\n      <td>18</td>\n      <td>2.168004</td>\n    </tr>\n    <tr>\n      <th>19</th>\n      <td>19</td>\n      <td>1.413712</td>\n    </tr>\n    <tr>\n      <th>20</th>\n      <td>20</td>\n      <td>4.784784</td>\n    </tr>\n    <tr>\n      <th>21</th>\n      <td>21</td>\n      <td>0.103784</td>\n    </tr>\n    <tr>\n      <th>22</th>\n      <td>22</td>\n      <td>0.841857</td>\n    </tr>\n    <tr>\n      <th>23</th>\n      <td>23</td>\n      <td>1.174342</td>\n    </tr>\n    <tr>\n      <th>24</th>\n      <td>24</td>\n      <td>1.360772</td>\n    </tr>\n    <tr>\n      <th>25</th>\n      <td>25</td>\n      <td>0.098045</td>\n    </tr>\n    <tr>\n      <th>26</th>\n      <td>26</td>\n      <td>0.728044</td>\n    </tr>\n    <tr>\n      <th>27</th>\n      <td>27</td>\n      <td>0.938960</td>\n    </tr>\n    <tr>\n      <th>28</th>\n      <td>28</td>\n      <td>0.984479</td>\n    </tr>\n    <tr>\n      <th>29</th>\n      <td>29</td>\n      <td>0.164916</td>\n    </tr>\n    <tr>\n      <th>30</th>\n      <td>30</td>\n      <td>2.844517</td>\n    </tr>\n    <tr>\n      <th>31</th>\n      <td>31</td>\n      <td>14.314166</td>\n    </tr>\n    <tr>\n      <th>32</th>\n      <td>32</td>\n      <td>1.379924</td>\n    </tr>\n    <tr>\n      <th>33</th>\n      <td>33</td>\n      <td>0.128805</td>\n    </tr>\n    <tr>\n      <th>34</th>\n      <td>34</td>\n      <td>0.670655</td>\n    </tr>\n    <tr>\n      <th>35</th>\n      <td>35</td>\n      <td>0.796836</td>\n    </tr>\n    <tr>\n      <th>36</th>\n      <td>36</td>\n      <td>0.860813</td>\n    </tr>\n    <tr>\n      <th>37</th>\n      <td>37</td>\n      <td>0.640109</td>\n    </tr>\n    <tr>\n      <th>38</th>\n      <td>38</td>\n      <td>124.499820</td>\n    </tr>\n    <tr>\n      <th>39</th>\n      <td>39</td>\n      <td>39.936512</td>\n    </tr>\n    <tr>\n      <th>40</th>\n      <td>40</td>\n      <td>373.617247</td>\n    </tr>\n    <tr>\n      <th>41</th>\n      <td>41</td>\n      <td>0.191467</td>\n    </tr>\n    <tr>\n      <th>42</th>\n      <td>42</td>\n      <td>0.881721</td>\n    </tr>\n    <tr>\n      <th>43</th>\n      <td>43</td>\n      <td>0.983279</td>\n    </tr>\n    <tr>\n      <th>44</th>\n      <td>44</td>\n      <td>0.995713</td>\n    </tr>\n    <tr>\n      <th>45</th>\n      <td>45</td>\n      <td>0.047760</td>\n    </tr>\n    <tr>\n      <th>46</th>\n      <td>46</td>\n      <td>0.010326</td>\n    </tr>\n    <tr>\n      <th>47</th>\n      <td>47</td>\n      <td>0.006590</td>\n    </tr>\n  </tbody>\n</table>\n</div>"
     },
     "metadata": {},
     "output_type": "execute_result",
     "execution_count": 4
    }
   ],
   "source": [
    "vif_df = calc_vif(X)\n",
    "vif_df"
   ],
   "metadata": {
    "collapsed": false,
    "pycharm": {
     "name": "#%%\n",
     "is_executing": false
    }
   }
  },
  {
   "cell_type": "markdown",
   "source": [
    "Problematic variables are index 31, 38, 39, 40. Delete 40"
   ],
   "metadata": {
    "collapsed": false,
    "pycharm": {
     "name": "#%% md\n",
     "is_executing": false
    }
   }
  },
  {
   "cell_type": "code",
   "execution_count": 5,
   "outputs": [
    {
     "data": {
      "text/plain": "    variables         VIF\n0           0    1.483452\n1           1    0.995879\n2           2    0.854036\n3           3    2.173559\n4           4    0.963910\n5           5    0.964481\n6           6    0.701488\n7           7    2.093722\n8           8    1.088626\n9           9    1.008804\n10         10    1.705807\n11         11    1.088689\n12         12    1.086212\n13         13    1.992844\n14         14    2.107357\n15         15    2.231366\n16         16    1.749118\n17         17    2.436014\n18         18    2.598777\n19         19    1.968239\n20         20   16.128322\n21         21    0.174858\n22         22    1.924175\n23         23    2.338564\n24         24    2.254724\n25         25    0.112718\n26         26    0.731467\n27         27    0.939193\n28         28    0.984496\n29         29    0.315784\n30         30   41.069739\n31         31   14.005835\n32         32   18.393260\n33         33    0.143721\n34         34    0.672178\n35         35    0.797021\n36         36    0.860852\n37         37    1.235003\n38         38   20.013807\n39         39  288.682904\n40         40    0.212557\n41         41    0.882404\n42         42    0.983293\n43         43    0.995714\n44         44    0.074446\n45         45    0.015047\n46         46    0.009298",
      "text/html": "<div>\n<style scoped>\n    .dataframe tbody tr th:only-of-type {\n        vertical-align: middle;\n    }\n\n    .dataframe tbody tr th {\n        vertical-align: top;\n    }\n\n    .dataframe thead th {\n        text-align: right;\n    }\n</style>\n<table border=\"1\" class=\"dataframe\">\n  <thead>\n    <tr style=\"text-align: right;\">\n      <th></th>\n      <th>variables</th>\n      <th>VIF</th>\n    </tr>\n  </thead>\n  <tbody>\n    <tr>\n      <th>0</th>\n      <td>0</td>\n      <td>1.483452</td>\n    </tr>\n    <tr>\n      <th>1</th>\n      <td>1</td>\n      <td>0.995879</td>\n    </tr>\n    <tr>\n      <th>2</th>\n      <td>2</td>\n      <td>0.854036</td>\n    </tr>\n    <tr>\n      <th>3</th>\n      <td>3</td>\n      <td>2.173559</td>\n    </tr>\n    <tr>\n      <th>4</th>\n      <td>4</td>\n      <td>0.963910</td>\n    </tr>\n    <tr>\n      <th>5</th>\n      <td>5</td>\n      <td>0.964481</td>\n    </tr>\n    <tr>\n      <th>6</th>\n      <td>6</td>\n      <td>0.701488</td>\n    </tr>\n    <tr>\n      <th>7</th>\n      <td>7</td>\n      <td>2.093722</td>\n    </tr>\n    <tr>\n      <th>8</th>\n      <td>8</td>\n      <td>1.088626</td>\n    </tr>\n    <tr>\n      <th>9</th>\n      <td>9</td>\n      <td>1.008804</td>\n    </tr>\n    <tr>\n      <th>10</th>\n      <td>10</td>\n      <td>1.705807</td>\n    </tr>\n    <tr>\n      <th>11</th>\n      <td>11</td>\n      <td>1.088689</td>\n    </tr>\n    <tr>\n      <th>12</th>\n      <td>12</td>\n      <td>1.086212</td>\n    </tr>\n    <tr>\n      <th>13</th>\n      <td>13</td>\n      <td>1.992844</td>\n    </tr>\n    <tr>\n      <th>14</th>\n      <td>14</td>\n      <td>2.107357</td>\n    </tr>\n    <tr>\n      <th>15</th>\n      <td>15</td>\n      <td>2.231366</td>\n    </tr>\n    <tr>\n      <th>16</th>\n      <td>16</td>\n      <td>1.749118</td>\n    </tr>\n    <tr>\n      <th>17</th>\n      <td>17</td>\n      <td>2.436014</td>\n    </tr>\n    <tr>\n      <th>18</th>\n      <td>18</td>\n      <td>2.598777</td>\n    </tr>\n    <tr>\n      <th>19</th>\n      <td>19</td>\n      <td>1.968239</td>\n    </tr>\n    <tr>\n      <th>20</th>\n      <td>20</td>\n      <td>16.128322</td>\n    </tr>\n    <tr>\n      <th>21</th>\n      <td>21</td>\n      <td>0.174858</td>\n    </tr>\n    <tr>\n      <th>22</th>\n      <td>22</td>\n      <td>1.924175</td>\n    </tr>\n    <tr>\n      <th>23</th>\n      <td>23</td>\n      <td>2.338564</td>\n    </tr>\n    <tr>\n      <th>24</th>\n      <td>24</td>\n      <td>2.254724</td>\n    </tr>\n    <tr>\n      <th>25</th>\n      <td>25</td>\n      <td>0.112718</td>\n    </tr>\n    <tr>\n      <th>26</th>\n      <td>26</td>\n      <td>0.731467</td>\n    </tr>\n    <tr>\n      <th>27</th>\n      <td>27</td>\n      <td>0.939193</td>\n    </tr>\n    <tr>\n      <th>28</th>\n      <td>28</td>\n      <td>0.984496</td>\n    </tr>\n    <tr>\n      <th>29</th>\n      <td>29</td>\n      <td>0.315784</td>\n    </tr>\n    <tr>\n      <th>30</th>\n      <td>30</td>\n      <td>41.069739</td>\n    </tr>\n    <tr>\n      <th>31</th>\n      <td>31</td>\n      <td>14.005835</td>\n    </tr>\n    <tr>\n      <th>32</th>\n      <td>32</td>\n      <td>18.393260</td>\n    </tr>\n    <tr>\n      <th>33</th>\n      <td>33</td>\n      <td>0.143721</td>\n    </tr>\n    <tr>\n      <th>34</th>\n      <td>34</td>\n      <td>0.672178</td>\n    </tr>\n    <tr>\n      <th>35</th>\n      <td>35</td>\n      <td>0.797021</td>\n    </tr>\n    <tr>\n      <th>36</th>\n      <td>36</td>\n      <td>0.860852</td>\n    </tr>\n    <tr>\n      <th>37</th>\n      <td>37</td>\n      <td>1.235003</td>\n    </tr>\n    <tr>\n      <th>38</th>\n      <td>38</td>\n      <td>20.013807</td>\n    </tr>\n    <tr>\n      <th>39</th>\n      <td>39</td>\n      <td>288.682904</td>\n    </tr>\n    <tr>\n      <th>40</th>\n      <td>40</td>\n      <td>0.212557</td>\n    </tr>\n    <tr>\n      <th>41</th>\n      <td>41</td>\n      <td>0.882404</td>\n    </tr>\n    <tr>\n      <th>42</th>\n      <td>42</td>\n      <td>0.983293</td>\n    </tr>\n    <tr>\n      <th>43</th>\n      <td>43</td>\n      <td>0.995714</td>\n    </tr>\n    <tr>\n      <th>44</th>\n      <td>44</td>\n      <td>0.074446</td>\n    </tr>\n    <tr>\n      <th>45</th>\n      <td>45</td>\n      <td>0.015047</td>\n    </tr>\n    <tr>\n      <th>46</th>\n      <td>46</td>\n      <td>0.009298</td>\n    </tr>\n  </tbody>\n</table>\n</div>"
     },
     "metadata": {},
     "output_type": "execute_result",
     "execution_count": 5
    }
   ],
   "source": [
    "vif_df2 = calc_vif(np.delete(X, 40, axis=1))\n",
    "vif_df2"
   ],
   "metadata": {
    "collapsed": false,
    "pycharm": {
     "name": "#%%\n",
     "is_executing": false
    }
   }
  },
  {
   "cell_type": "markdown",
   "source": [
    "Problematic variables are index 30, 31, 32, 38, 39. Delete 39\n"
   ],
   "metadata": {
    "collapsed": false,
    "pycharm": {
     "name": "#%% md\n",
     "is_executing": false
    }
   }
  },
  {
   "cell_type": "code",
   "execution_count": 6,
   "outputs": [
    {
     "data": {
      "text/plain": "    variables          VIF\n0           0    17.061088\n1           1     8.452871\n2           2     5.910834\n3           3     6.637945\n4           4     3.933401\n5           5     2.996938\n6           6   416.966257\n7           7    30.061931\n8           8     7.916233\n9           9     5.476471\n10         10     4.204557\n11         11     7.105264\n12         12     5.255436\n13         13  1117.105348\n14         14     5.682087\n15         15     9.304162\n16         16     9.243367\n17         17     4.128387\n18         18    15.706374\n19         19     6.387971\n20         20   249.868461\n21         21    28.917718\n22         22   742.565682\n23         23  2877.914905\n24         24   856.769082\n25         25     3.229325\n26         26     1.734318\n27         27     1.147694\n28         28     1.048958\n29         29    99.721492\n30         30  4870.544566\n31         31  5061.563737\n32         32   815.681115\n33         33     2.583701\n34         34     2.465917\n35         35     1.942923\n36         36     1.616192\n37         37   104.019678\n38         38    40.355116\n39         39     2.541969\n40         40     1.293102\n41         41     1.071674\n42         42     1.037019\n43         43     8.524465\n44         44     1.234568\n45         45     0.543976",
      "text/html": "<div>\n<style scoped>\n    .dataframe tbody tr th:only-of-type {\n        vertical-align: middle;\n    }\n\n    .dataframe tbody tr th {\n        vertical-align: top;\n    }\n\n    .dataframe thead th {\n        text-align: right;\n    }\n</style>\n<table border=\"1\" class=\"dataframe\">\n  <thead>\n    <tr style=\"text-align: right;\">\n      <th></th>\n      <th>variables</th>\n      <th>VIF</th>\n    </tr>\n  </thead>\n  <tbody>\n    <tr>\n      <th>0</th>\n      <td>0</td>\n      <td>17.061088</td>\n    </tr>\n    <tr>\n      <th>1</th>\n      <td>1</td>\n      <td>8.452871</td>\n    </tr>\n    <tr>\n      <th>2</th>\n      <td>2</td>\n      <td>5.910834</td>\n    </tr>\n    <tr>\n      <th>3</th>\n      <td>3</td>\n      <td>6.637945</td>\n    </tr>\n    <tr>\n      <th>4</th>\n      <td>4</td>\n      <td>3.933401</td>\n    </tr>\n    <tr>\n      <th>5</th>\n      <td>5</td>\n      <td>2.996938</td>\n    </tr>\n    <tr>\n      <th>6</th>\n      <td>6</td>\n      <td>416.966257</td>\n    </tr>\n    <tr>\n      <th>7</th>\n      <td>7</td>\n      <td>30.061931</td>\n    </tr>\n    <tr>\n      <th>8</th>\n      <td>8</td>\n      <td>7.916233</td>\n    </tr>\n    <tr>\n      <th>9</th>\n      <td>9</td>\n      <td>5.476471</td>\n    </tr>\n    <tr>\n      <th>10</th>\n      <td>10</td>\n      <td>4.204557</td>\n    </tr>\n    <tr>\n      <th>11</th>\n      <td>11</td>\n      <td>7.105264</td>\n    </tr>\n    <tr>\n      <th>12</th>\n      <td>12</td>\n      <td>5.255436</td>\n    </tr>\n    <tr>\n      <th>13</th>\n      <td>13</td>\n      <td>1117.105348</td>\n    </tr>\n    <tr>\n      <th>14</th>\n      <td>14</td>\n      <td>5.682087</td>\n    </tr>\n    <tr>\n      <th>15</th>\n      <td>15</td>\n      <td>9.304162</td>\n    </tr>\n    <tr>\n      <th>16</th>\n      <td>16</td>\n      <td>9.243367</td>\n    </tr>\n    <tr>\n      <th>17</th>\n      <td>17</td>\n      <td>4.128387</td>\n    </tr>\n    <tr>\n      <th>18</th>\n      <td>18</td>\n      <td>15.706374</td>\n    </tr>\n    <tr>\n      <th>19</th>\n      <td>19</td>\n      <td>6.387971</td>\n    </tr>\n    <tr>\n      <th>20</th>\n      <td>20</td>\n      <td>249.868461</td>\n    </tr>\n    <tr>\n      <th>21</th>\n      <td>21</td>\n      <td>28.917718</td>\n    </tr>\n    <tr>\n      <th>22</th>\n      <td>22</td>\n      <td>742.565682</td>\n    </tr>\n    <tr>\n      <th>23</th>\n      <td>23</td>\n      <td>2877.914905</td>\n    </tr>\n    <tr>\n      <th>24</th>\n      <td>24</td>\n      <td>856.769082</td>\n    </tr>\n    <tr>\n      <th>25</th>\n      <td>25</td>\n      <td>3.229325</td>\n    </tr>\n    <tr>\n      <th>26</th>\n      <td>26</td>\n      <td>1.734318</td>\n    </tr>\n    <tr>\n      <th>27</th>\n      <td>27</td>\n      <td>1.147694</td>\n    </tr>\n    <tr>\n      <th>28</th>\n      <td>28</td>\n      <td>1.048958</td>\n    </tr>\n    <tr>\n      <th>29</th>\n      <td>29</td>\n      <td>99.721492</td>\n    </tr>\n    <tr>\n      <th>30</th>\n      <td>30</td>\n      <td>4870.544566</td>\n    </tr>\n    <tr>\n      <th>31</th>\n      <td>31</td>\n      <td>5061.563737</td>\n    </tr>\n    <tr>\n      <th>32</th>\n      <td>32</td>\n      <td>815.681115</td>\n    </tr>\n    <tr>\n      <th>33</th>\n      <td>33</td>\n      <td>2.583701</td>\n    </tr>\n    <tr>\n      <th>34</th>\n      <td>34</td>\n      <td>2.465917</td>\n    </tr>\n    <tr>\n      <th>35</th>\n      <td>35</td>\n      <td>1.942923</td>\n    </tr>\n    <tr>\n      <th>36</th>\n      <td>36</td>\n      <td>1.616192</td>\n    </tr>\n    <tr>\n      <th>37</th>\n      <td>37</td>\n      <td>104.019678</td>\n    </tr>\n    <tr>\n      <th>38</th>\n      <td>38</td>\n      <td>40.355116</td>\n    </tr>\n    <tr>\n      <th>39</th>\n      <td>39</td>\n      <td>2.541969</td>\n    </tr>\n    <tr>\n      <th>40</th>\n      <td>40</td>\n      <td>1.293102</td>\n    </tr>\n    <tr>\n      <th>41</th>\n      <td>41</td>\n      <td>1.071674</td>\n    </tr>\n    <tr>\n      <th>42</th>\n      <td>42</td>\n      <td>1.037019</td>\n    </tr>\n    <tr>\n      <th>43</th>\n      <td>43</td>\n      <td>8.524465</td>\n    </tr>\n    <tr>\n      <th>44</th>\n      <td>44</td>\n      <td>1.234568</td>\n    </tr>\n    <tr>\n      <th>45</th>\n      <td>45</td>\n      <td>0.543976</td>\n    </tr>\n  </tbody>\n</table>\n</div>"
     },
     "metadata": {},
     "output_type": "execute_result",
     "execution_count": 6
    }
   ],
   "source": [
    "vif_df3 = calc_vif(np.delete(X, [39,40], axis=1))\n",
    "vif_df3"
   ],
   "metadata": {
    "collapsed": false,
    "pycharm": {
     "name": "#%%\n",
     "is_executing": false
    }
   }
  },
  {
   "cell_type": "markdown",
   "source": [
    "Too many variables pop up, need an algorithm to perform stepwise selection."
   ],
   "metadata": {
    "collapsed": false,
    "pycharm": {
     "name": "#%% md\n",
     "is_executing": false
    }
   }
  },
  {
   "cell_type": "code",
   "execution_count": 7,
   "outputs": [],
   "source": [
    "from util_relaimpo import *"
   ],
   "metadata": {
    "collapsed": false,
    "pycharm": {
     "name": "#%%\n",
     "is_executing": false
    }
   }
  },
  {
   "cell_type": "code",
   "execution_count": 8,
   "outputs": [
    {
     "name": "stdout",
     "text": [
      "Iteration  2\n",
      "Problematic variables are:  [31, 38, 39, 40]\n",
      "Delete variable NO. 40\n",
      "Iteration  3\n",
      "Problematic variables are:  [20, 30, 31, 32, 38, 39]\n",
      "Delete variable NO. 39\n",
      "Iteration  4\n",
      "Problematic variables are:  [0, 1, 2, 3, 6, 7, 8, 9, 11, 12, 13, 14, 15, 16, 18, 19, 20, 21, 22, 23, 24, 29, 30, 31, 32, 37, 38, 45]\n",
      "Delete variable NO. 31\n",
      "Iteration  5\n",
      "Problematic variables are:  [0, 1, 2, 3, 6, 7, 8, 9, 11, 12, 13, 14, 15, 16, 18, 19, 20, 21, 22, 23, 24, 25, 29, 30, 32, 33, 37, 38, 41, 45, 46]\n",
      "Delete variable NO. 23\n",
      "Iteration  6\n",
      "Problematic variables are:  [0, 1, 2, 3, 6, 7, 8, 9, 11, 12, 13, 14, 15, 16, 18, 19, 20, 21, 22, 24, 25, 29, 30, 32, 33, 37, 38, 41, 45, 46]\n",
      "Delete variable NO. 20\n",
      "Iteration  7\n",
      "Problematic variables are:  [0, 1, 2, 3, 6, 7, 8, 9, 11, 12, 13, 14, 15, 16, 18, 19, 21, 22, 24, 29, 30, 32, 33, 37, 38, 41, 45, 46]\n",
      "Delete variable NO. 13\n",
      "Iteration  8\n",
      "Problematic variables are:  [0, 1, 2, 3, 6, 7, 8, 9, 11, 12, 14, 15, 16, 18, 19, 21, 22, 24, 29, 30, 32, 37, 38, 45]\n",
      "Delete variable NO. 6\n",
      "Iteration  9\n",
      "Problematic variables are:  [0, 1, 2, 3, 7, 8, 9, 11, 12, 14, 15, 16, 18, 19, 21, 22, 24, 29, 30, 32, 37, 38, 45]\n",
      "Delete variable NO. 22\n",
      "Iteration  10\n",
      "Problematic variables are:  [0, 1, 2, 3, 7, 8, 9, 11, 12, 14, 15, 16, 18, 19, 21, 24, 29, 30, 32, 37, 38, 45]\n",
      "Delete variable NO. 29\n",
      "Iteration  11\n",
      "Problematic variables are:  [0, 1, 3, 7, 8, 9, 11, 12, 14, 15, 16, 18, 19, 21, 24, 30, 32, 37, 38, 45, 46]\n",
      "Delete variable NO. 30\n",
      "Iteration  12\n",
      "Problematic variables are:  [0, 1, 3, 7, 8, 9, 11, 14, 15, 16, 18, 19, 21, 24, 32, 37, 38, 45]\n",
      "Delete variable NO. 37\n",
      "Iteration  13\n",
      "Problematic variables are:  [0, 1, 3, 7, 8, 9, 11, 19, 21, 24, 32, 38, 45, 46]\n",
      "Delete variable NO. 7\n",
      "Iteration  14\n",
      "Problematic variables are:  [1, 3, 8, 9, 11, 19, 21, 24, 32, 38, 45, 46]\n",
      "Delete variable NO. 21\n",
      "Iteration  15\n",
      "Problematic variables are:  [1, 3, 8, 9, 11, 19, 24, 32, 38, 45, 46]\n",
      "Delete variable NO. 45\n",
      "Iteration  16\n",
      "Problematic variables are:  [1, 3, 8, 9, 11, 19, 24, 32, 38, 46]\n",
      "Delete variable NO. 1\n",
      "Iteration  17\n",
      "Problematic variables are:  [3, 11, 19, 38, 46]\n",
      "Delete variable NO. 38\n",
      "Iteration  18\n",
      "Problematic variables are:  [11, 32, 46]\n",
      "Delete variable NO. 46\n",
      "Iteration  19\n",
      "Problematic variables are:  [11]\n",
      "Delete variable NO. 11\n",
      "Deleted variable index:  [40, 39, 31, 23, 20, 13, 6, 22, 29, 30, 37, 7, 21, 45, 1, 38, 46, 11]\n"
     ],
     "output_type": "stream"
    }
   ],
   "source": [
    "xdf = pd.DataFrame(X)\n",
    "x_selected, vif = vifStepwiseSelect(xdf)"
   ],
   "metadata": {
    "collapsed": false,
    "pycharm": {
     "name": "#%%\n",
     "is_executing": false
    }
   }
  },
  {
   "cell_type": "markdown",
   "source": [
    "VIF selection filtered out 18 variables and left 30 variables.\n",
    "\n",
    "## Linear Model"
   ],
   "metadata": {
    "collapsed": false,
    "pycharm": {
     "name": "#%% md\n",
     "is_executing": false
    }
   }
  },
  {
   "cell_type": "code",
   "source": [
    "ss = StandardScaler()\n",
    "x_selected_s = ss.fit_transform(x_selected)"
   ],
   "metadata": {
    "collapsed": false,
    "pycharm": {
     "name": "#%% \n",
     "is_executing": false
    }
   },
   "execution_count": 9,
   "outputs": []
  },
  {
   "cell_type": "code",
   "execution_count": 10,
   "outputs": [
    {
     "data": {
      "text/plain": "LinearRegression()"
     },
     "metadata": {},
     "output_type": "execute_result",
     "execution_count": 10
    }
   ],
   "source": [
    "lr = LinearRegression()\n",
    "lr.fit(x_selected_s, Y)"
   ],
   "metadata": {
    "collapsed": false,
    "pycharm": {
     "name": "#%%\n",
     "is_executing": false
    }
   }
  },
  {
   "cell_type": "markdown",
   "source": [
    "## Feature Importance\n",
    "\n",
    "### 1. Standard Coefficients"
   ],
   "metadata": {
    "collapsed": false,
    "pycharm": {
     "name": "#%% md\n"
    }
   }
  },
  {
   "cell_type": "code",
   "execution_count": 11,
   "outputs": [
    {
     "data": {
      "text/plain": "<Figure size 432x288 with 1 Axes>",
      "image/png": "[encoded data removed]"
     },
     "metadata": {
      "needs_background": "light"
     },
     "output_type": "display_data"
    }
   ],
   "source": [
    "import matplotlib.pyplot as plt\n",
    "plt.bar(x_selected.columns, abs(lr.coef_[0,:]))\n",
    "plt.show()"
   ],
   "metadata": {
    "collapsed": false,
    "pycharm": {
     "name": "#%%\n",
     "is_executing": false
    }
   }
  },
  {
   "cell_type": "code",
   "execution_count": 13,
   "outputs": [
    {
     "data": {
      "text/plain": "array([27., 20., 30., 23., 25., 18., 17., 28., 14., 15., 29., 21., 26.,\n       19., 24., 16.,  7.,  4.,  1.,  5., 22.,  6.,  3.,  2.,  8., 10.,\n       11.,  9., 12., 13.])"
     },
     "metadata": {},
     "output_type": "execute_result",
     "execution_count": 13
    }
   ],
   "source": [
    "# ranking of feature importance\n",
    "from scipy.stats import rankdata\n",
    "rankdata(-abs(lr.coef_[0,:]))"
   ],
   "metadata": {
    "collapsed": false,
    "pycharm": {
     "name": "#%%\n",
     "is_executing": false
    }
   }
  },
  {
   "cell_type": "markdown",
   "source": [
    "### 2. First "
   ],
   "metadata": {
    "collapsed": false,
    "pycharm": {
     "name": "#%% md\n",
     "is_executing": false
    }
   }
  },
  {
   "cell_type": "code",
   "execution_count": 49,
   "outputs": [],
   "source": [],
   "metadata": {
    "collapsed": false,
    "pycharm": {
     "name": "#%%\n",
     "is_executing": false
    }
   }
  },
  {
   "cell_type": "code",
   "execution_count": 49,
   "outputs": [],
   "source": [],
   "metadata": {
    "collapsed": false,
    "pycharm": {
     "name": "#%%\n",
     "is_executing": false
    }
   }
  },
  {
   "cell_type": "code",
   "execution_count": 49,
   "outputs": [],
   "source": [],
   "metadata": {
    "collapsed": false,
    "pycharm": {
     "name": "#%%\n",
     "is_executing": false
    }
   }
  },
  {
   "cell_type": "code",
   "execution_count": 49,
   "outputs": [],
   "source": [],
   "metadata": {
    "collapsed": false,
    "pycharm": {
     "name": "#%%\n",
     "is_executing": false
    }
   }
  },
  {
   "cell_type": "code",
   "execution_count": 49,
   "outputs": [],
   "source": [],
   "metadata": {
    "collapsed": false,
    "pycharm": {
     "name": "#%%\n",
     "is_executing": false
    }
   }
  },
  {
   "cell_type": "code",
   "execution_count": 49,
   "outputs": [],
   "source": [],
   "metadata": {
    "collapsed": false,
    "pycharm": {
     "name": "#%%\n",
     "is_executing": false
    }
   }
  },
  {
   "cell_type": "code",
   "execution_count": 49,
   "outputs": [],
   "source": [],
   "metadata": {
    "collapsed": false,
    "pycharm": {
     "name": "#%%\n",
     "is_executing": false
    }
   }
  },
  {
   "cell_type": "code",
   "execution_count": 49,
   "outputs": [],
   "source": [],
   "metadata": {
    "collapsed": false,
    "pycharm": {
     "name": "#%%\n",
     "is_executing": false
    }
   }
  },
  {
   "cell_type": "code",
   "execution_count": 49,
   "outputs": [],
   "source": [],
   "metadata": {
    "collapsed": false,
    "pycharm": {
     "name": "#%%\n",
     "is_executing": false
    }
   }
  },
  {
   "cell_type": "code",
   "execution_count": 49,
   "outputs": [],
   "source": [],
   "metadata": {
    "collapsed": false,
    "pycharm": {
     "name": "#%%\n",
     "is_executing": false
    }
   }
  },
  {
   "cell_type": "code",
   "execution_count": 49,
   "outputs": [],
   "source": [],
   "metadata": {
    "collapsed": false,
    "pycharm": {
     "name": "#%%\n",
     "is_executing": false
    }
   }
  },
  {
   "cell_type": "code",
   "execution_count": 49,
   "outputs": [],
   "source": [],
   "metadata": {
    "collapsed": false,
    "pycharm": {
     "name": "#%%\n",
     "is_executing": false
    }
   }
  },
  {
   "cell_type": "code",
   "execution_count": 49,
   "outputs": [],
   "source": [],
   "metadata": {
    "collapsed": false,
    "pycharm": {
     "name": "#%%\n",
     "is_executing": false
    }
   }
  },
  {
   "cell_type": "code",
   "execution_count": 49,
   "outputs": [],
   "source": [],
   "metadata": {
    "collapsed": false,
    "pycharm": {
     "name": "#%%\n",
     "is_executing": false
    }
   }
  },
  {
   "cell_type": "code",
   "execution_count": null,
   "outputs": [],
   "source": [
    "\n"
   ],
   "metadata": {
    "collapsed": false,
    "pycharm": {
     "name": "#%%\n"
    }
   }
  }
 ],
 "metadata": {
  "kernelspec": {
   "display_name": "Python 3",
   "language": "python",
   "name": "python3"
  },
  "language_info": {
   "codemirror_mode": {
    "name": "ipython",
    "version": 2
   },
   "file_extension": ".py",
   "mimetype": "text/x-python",
   "name": "python",
   "nbconvert_exporter": "python",
   "pygments_lexer": "ipython2",
   "version": "2.7.6"
  },
  "pycharm": {
   "stem_cell": {
    "cell_type": "raw",
    "source": [],
    "metadata": {
     "collapsed": false
    }
   }
  }
 },
 "nbformat": 4,
 "nbformat_minor": 0
}